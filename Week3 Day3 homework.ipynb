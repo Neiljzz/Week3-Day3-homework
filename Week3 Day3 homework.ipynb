{
 "cells": [
  {
   "cell_type": "markdown",
   "id": "d576a808",
   "metadata": {},
   "source": [
    "# Exercise"
   ]
  },
  {
   "cell_type": "markdown",
   "id": "6fadf07b",
   "metadata": {},
   "source": [
    "Create a python wrapper for the Pokemon API. It should take in a pokemon name and display the pokemon with its height and weight"
   ]
  },
  {
   "cell_type": "code",
   "execution_count": 1,
   "id": "9c7f7520",
   "metadata": {},
   "outputs": [
    {
     "data": {
      "text/plain": [
       "'Pikachuheight is 4 and weight is 60'"
      ]
     },
     "execution_count": 1,
     "metadata": {},
     "output_type": "execute_result"
    }
   ],
   "source": [
    "import requests\n",
    "\n",
    "class PokemonAPI:\n",
    "    \n",
    "    def __init__(self):\n",
    "        self.base_url = \"https://pokeapi.co/api/v2\"\n",
    "       \n",
    "    def _get(self, name):\n",
    "        res = requests.get(f\"{self.base_url}/pokemon/{name}\")\n",
    "        if res.status_code == 200:\n",
    "            return res.json()\n",
    "        \n",
    "    def get_pokemon_info(self,name):\n",
    "        data = self._get(name)\n",
    "        if data:\n",
    "            height = data['height']\n",
    "            weight = data['weight']\n",
    "            return f\"{name.title()}height is {height} and weight is {weight}\"\n",
    "        else:\n",
    "            return f\"No information found\"\n",
    "        \n",
    "api = PokemonAPI()\n",
    "api.get_pokemon_info(\"pikachu\")\n",
    "    \n",
    "\n"
   ]
  },
  {
   "cell_type": "code",
   "execution_count": null,
   "id": "109af49d",
   "metadata": {},
   "outputs": [],
   "source": []
  }
 ],
 "metadata": {
  "kernelspec": {
   "display_name": "Python 3 (ipykernel)",
   "language": "python",
   "name": "python3"
  },
  "language_info": {
   "codemirror_mode": {
    "name": "ipython",
    "version": 3
   },
   "file_extension": ".py",
   "mimetype": "text/x-python",
   "name": "python",
   "nbconvert_exporter": "python",
   "pygments_lexer": "ipython3",
   "version": "3.9.13"
  }
 },
 "nbformat": 4,
 "nbformat_minor": 5
}
